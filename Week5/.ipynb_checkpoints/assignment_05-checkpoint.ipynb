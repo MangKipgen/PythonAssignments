{
 "cells": [
  {
   "cell_type": "markdown",
   "metadata": {},
   "source": [
    "### Getting into Class\n",
    "This exercise is to get you familiar with the idea of creating your own class object.\n",
    "\n",
    "This will create a generic Student class that we will be able to extend with other class objects.\n",
    "\n",
    "Your Class should be able to create an Student object instance with the following properties\n",
    "\n",
    "- Construct with default attributes for School Name, Student First Name, and Last Name\n",
    "- Methods to update any of these above attributes\n",
    "- An overloaded method for the str() function to return the Student attributes in a string formatted sentence \"{FirstName} {LastName} is a student of {SchoolName}\"\n",
    "\n",
    "You are free to implement this class however you like. The testing code is included below. Don't be afraid to check the [documentation]('https://docs.python.org/3/tutorial/classes.html') or any other resources you would like! Internet searching is a big part of promgramming"
   ]
  },
  {
   "cell_type": "code",
   "execution_count": 221,
   "metadata": {},
   "outputs": [],
   "source": [
    "# code here\n",
    "class genStudent:\n",
    "    \n",
    "    totalStudents = 0\n",
    "    \n",
    "    def __init__(self, schoolName, firstName, lastName, degree, classOf):\n",
    "        self.schoolName = schoolName\n",
    "        self.firstName = firstName\n",
    "        self.lastName = lastName\n",
    "        self.degree= degree\n",
    "        self.classOf = classOf\n",
    "       # Challenge 1.adds students each time for additional students\n",
    "        genStudent.totalStudents+=1\n",
    "        \n",
    "    def updateSchool(self, updatedSchoolName):\n",
    "        self.schoolName=updatedSchoolName\n",
    "\n",
    "    def updateFirst(self, updatedFirstName):\n",
    "        self.firstName=updatedFirstName\n",
    "\n",
    "    def updateLast(self, updatedLastName):\n",
    "        self.lastName=updatedLastName \n",
    "        \n",
    "    def updateDegree(self, updatedDegree):\n",
    "        self.degree=updatedDegree  \n",
    "    \n",
    "    def updateLast(self, classOf):\n",
    "        self.classOf=updatedClassOf  \n",
    "        \n",
    "    # challenge 2    \n",
    "    def behavioral(self, interest):\n",
    "        self.interest = interest\n",
    "    def printBehavioral(self):\n",
    "        return f\"{self.firstName} is interested in {self.interest}\"\n",
    "        \n",
    "    def __str__(self):\n",
    "        return f\"{self.firstName} {self.lastName} is a candidate of the {self.degree} program at {self.schoolName} set to graduate in {self.classOf}.\"\n",
    "\n",
    "               \n"
   ]
  },
  {
   "cell_type": "code",
   "execution_count": 222,
   "metadata": {},
   "outputs": [
    {
     "name": "stdout",
     "output_type": "stream",
     "text": [
      "Mang Kipgen is a candidate of the DT program at Parsons set to graduate in 2022.\n"
     ]
    }
   ],
   "source": [
    "mang = genStudent('Parsons', 'Mang', 'Kipgen', 'DT', '2022')\n",
    "# mang.updateSchool('NYU')\n",
    "# mang.updateDegree('Karate')\n",
    "\n",
    "print(mang)\n"
   ]
  },
  {
   "cell_type": "markdown",
   "metadata": {},
   "source": [
    "### Challenges\n",
    "Before looking at any of these specific challenges, look back at the class you've created. Are there features of Students that you think are missing? Go ahead and just try and add them yourself! These can be things like registered classes, graduation year, enrollment status, etc. Anything you can think of! Class flexibility is designed so that your approach reflects your own personal understanding of the problem. But for a more structured challenge read on...\n",
    "\n",
    "The challenges here extend the functionality of the base class. These are in topics of class attributes, magic methods, inheritance, and iteration. Don't be afraid to check python documentation on these problems to look for implementation help! No one codes alone!\n",
    "\n",
    "Class is where your own ideas get to come through as a programmer and designer. So there is no one right way to any of these. Give it your best shot and also be creative!\n",
    "\n",
    "__Challenge #1__ add an class wide attribute student count and give every student an ID\n",
    "Create a Class wide count of students that tracks how many students have been created. Then, usi that attriute to give every student a unique ID.\n",
    "\n",
    "__Challenge #2__ add a behavioral method to the students\n",
    "What kind of behavior should a student have? What do they do? Do they study? Research? Maybe a student can declare a major or focus of study?\n",
    "\n",
    "Implement the method and the appropriate attributes that allows a student to print a statement about themselves. These can be as simple as \"say my own name\" or something like printing the student's favorite faculty member\n",
    "\n",
    "__Challenge #3__ create a subclass called Graduate Student\n",
    "The Graduate student should inherit from the base Student class. How do you think Graduate Students should be differentiated from the base Student? Add your own attribute or methods that you think they should have.\n",
    "\n",
    "__Challenge #4__ Create a School Class that has Students as attributes\n",
    "This is a separate class that is called School that can enroll Students, and graduate students. Maybe it can track its own endowment. This would be a large class that is meant to process these students in some way."
   ]
  },
  {
   "cell_type": "code",
   "execution_count": 214,
   "metadata": {},
   "outputs": [
    {
     "name": "stdout",
     "output_type": "stream",
     "text": [
      "3\n"
     ]
    }
   ],
   "source": [
    "#challenge 1\n",
    "\n",
    "newStudent = genStudent('Parsons', 'Sven', 'Travis', 'DT', '2022')\n",
    "newStudent1 = genStudent('Parsons', 'BB', 'King', 'DT', '2022')\n",
    "\n",
    "# print(mang,newStudent)\n",
    "print(genStudent.totalStudents)"
   ]
  },
  {
   "cell_type": "code",
   "execution_count": 218,
   "metadata": {},
   "outputs": [
    {
     "data": {
      "text/plain": [
       "'Mang is interested in graphic design'"
      ]
     },
     "execution_count": 218,
     "metadata": {},
     "output_type": "execute_result"
    }
   ],
   "source": [
    "# challenge 2\n",
    "mang.behavioral('graphic design')\n",
    "mang.printBehavioral()"
   ]
  },
  {
   "cell_type": "code",
   "execution_count": 224,
   "metadata": {},
   "outputs": [
    {
     "name": "stdout",
     "output_type": "stream",
     "text": [
      "mang kipgen is a candidate of the MFA program at Parsons set to graduate in 2022.\n"
     ]
    }
   ],
   "source": [
    "# challenge 3\n",
    "class graduateStudent(genStudent):\n",
    "    def __init__(self, schoolName, firstName, lastName, degree, classOf, undergrad):\n",
    "        super().__init__(schoolName, firstName, lastName, degree, classOf)\n",
    "    \n",
    "    def printGrad(self):\n",
    "        return f\"my undergrad degree was {self.undergrad}\"\n",
    "mang2 = graduateStudent ('Parsons', 'mang', 'kipgen', 'MFA', '2022', 'graphic design')\n",
    "\n",
    "print (mang2)"
   ]
  },
  {
   "cell_type": "code",
   "execution_count": 23,
   "metadata": {},
   "outputs": [],
   "source": [
    "# challenge 4\n",
    "# done inclass with sohee\n",
    "#still incomplete. \n",
    "\n",
    "class School:\n",
    "    \n",
    "    totalStudents=0\n",
    "    \n",
    "    def __init__(self, name):\n",
    "        self.name = name\n",
    "        self.students = []\n",
    "        return None\n",
    "        \n",
    "    def EnrollStudents (self, students):\n",
    "        self.students.append(students)\n",
    "        return self        \n",
    "    \n",
    "    def getStudents(self):\n",
    "        for students in self.students:\n",
    "            print(str(student))\n",
    "        return None"
   ]
  },
  {
   "cell_type": "code",
   "execution_count": 24,
   "metadata": {},
   "outputs": [],
   "source": [
    "parsons = School('Parsons')"
   ]
  },
  {
   "cell_type": "code",
   "execution_count": 25,
   "metadata": {},
   "outputs": [
    {
     "ename": "NameError",
     "evalue": "name 'student2' is not defined",
     "output_type": "error",
     "traceback": [
      "\u001b[0;31m---------------------------------------------------------------------------\u001b[0m",
      "\u001b[0;31mNameError\u001b[0m                                 Traceback (most recent call last)",
      "\u001b[0;32m<ipython-input-25-cf9e5a466275>\u001b[0m in \u001b[0;36m<module>\u001b[0;34m\u001b[0m\n\u001b[0;32m----> 1\u001b[0;31m \u001b[0mparsons\u001b[0m\u001b[0;34m.\u001b[0m\u001b[0mEnrollStudents\u001b[0m\u001b[0;34m(\u001b[0m\u001b[0mstudent2\u001b[0m\u001b[0;34m)\u001b[0m\u001b[0;34m\u001b[0m\u001b[0;34m\u001b[0m\u001b[0m\n\u001b[0m",
      "\u001b[0;31mNameError\u001b[0m: name 'student2' is not defined"
     ]
    }
   ],
   "source": [
    "parsons.EnrollStudents(student2)"
   ]
  },
  {
   "cell_type": "code",
   "execution_count": 26,
   "metadata": {},
   "outputs": [
    {
     "data": {
      "text/plain": [
       "<bound method School.getStudents of <__main__.School object at 0x7fa7f83cb5d0>>"
      ]
     },
     "execution_count": 26,
     "metadata": {},
     "output_type": "execute_result"
    }
   ],
   "source": [
    "parsons.getStudents"
   ]
  },
  {
   "cell_type": "code",
   "execution_count": null,
   "metadata": {},
   "outputs": [],
   "source": []
  }
 ],
 "metadata": {
  "kernelspec": {
   "display_name": "Python 3",
   "language": "python",
   "name": "python3"
  },
  "language_info": {
   "codemirror_mode": {
    "name": "ipython",
    "version": 3
   },
   "file_extension": ".py",
   "mimetype": "text/x-python",
   "name": "python",
   "nbconvert_exporter": "python",
   "pygments_lexer": "ipython3",
   "version": "3.7.6"
  }
 },
 "nbformat": 4,
 "nbformat_minor": 4
}
