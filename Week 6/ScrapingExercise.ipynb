{
 "cells": [
  {
   "cell_type": "code",
   "execution_count": null,
   "metadata": {},
   "outputs": [],
   "source": [
    "#scraping books & covers of a specific genre \n",
    "\n",
    "import requests\n",
    "response = requests.get (\"https://www.apartments.com/oriana-at-rivertower-manhattan-ny/6l704ys/\")\n",
    "# response = requests.get (\"http://books.toscrape.com/catalogue/category/books/mystery_3/index.html\")\n",
    "\n"
   ]
  },
  {
   "cell_type": "code",
   "execution_count": null,
   "metadata": {},
   "outputs": [],
   "source": [
    "print(response.text)"
   ]
  },
  {
   "cell_type": "code",
   "execution_count": null,
   "metadata": {},
   "outputs": [],
   "source": [
    "import bs4\n",
    "scrape = bs4.BeautifulSoup(response.text, 'html.parser')"
   ]
  },
  {
   "cell_type": "code",
   "execution_count": null,
   "metadata": {},
   "outputs": [],
   "source": [
    "scrape.select('.product_pod')\n"
   ]
  },
  {
   "cell_type": "code",
   "execution_count": null,
   "metadata": {},
   "outputs": [],
   "source": [
    "category = []\n",
    "for cat in scrape.select('.product_pod'):\n",
    "    category.append(cat.text)\n",
    "category\n",
    "# type(category)\n"
   ]
  },
  {
   "cell_type": "code",
   "execution_count": null,
   "metadata": {},
   "outputs": [],
   "source": [
    "#strip\n",
    "newCat = [] \n",
    "for nc in category: \n",
    "    newCat.append(nc.replace(\"\\n\", \"\")) \n",
    "    \n",
    "newCat\n"
   ]
  },
  {
   "cell_type": "code",
   "execution_count": null,
   "metadata": {},
   "outputs": [],
   "source": [
    "import pandas as pd\n",
    "\n",
    "newCat_df = pd.DataFrame()\n",
    "newCat_df['Travel Books'] = pd.Series(newCat).values\n",
    "\n",
    "newCat_df\n"
   ]
  },
  {
   "cell_type": "code",
   "execution_count": null,
   "metadata": {},
   "outputs": [],
   "source": [
    "newCat_df.to_csv('travel.csv')\n",
    "\n",
    "# image_info = scrape.select('.image_container')\n",
    "image_info = scrape.select('.thumbnail')\n"
   ]
  },
  {
   "cell_type": "code",
   "execution_count": null,
   "metadata": {},
   "outputs": [],
   "source": [
    "image_info"
   ]
  },
  {
   "cell_type": "code",
   "execution_count": null,
   "metadata": {},
   "outputs": [],
   "source": [
    "links = []\n",
    "for link in image_info:\n",
    "    item = link.get('src')\n",
    "#     print(item)\n",
    "    links.append(\"http://books.toscrape.com/\"+item)\n",
    "print(links)\n"
   ]
  },
  {
   "cell_type": "code",
   "execution_count": null,
   "metadata": {},
   "outputs": [],
   "source": [
    "import urllib.request\n",
    "import urllib.parse\n",
    "from urllib.error import HTTPError\n",
    "import time\n",
    "import random as r\n",
    "\n",
    "def download(url, full_path):\n",
    "    try:\n",
    "        urllib.request.urlretrieve(url, full_path)\n",
    "        time.sleep(r.randint(1, 5))\n",
    "    except urllib.error.HTTPError as err:\n",
    "        print(err.code)\n",
    "        pass\n",
    "    \n",
    "for index, url in enumerate(links):\n",
    "    file_name = 'img_' + str(index) + '.jpg'\n",
    "    file_path = 'Images/'    \n",
    "    full_path = '{}{}'.format(file_path, file_name)\n",
    "    print(file_name)\n",
    "    download(url, full_path)\n",
    "    "
   ]
  },
  {
   "cell_type": "code",
   "execution_count": null,
   "metadata": {},
   "outputs": [],
   "source": []
  }
 ],
 "metadata": {
  "kernelspec": {
   "display_name": "Python 3",
   "language": "python",
   "name": "python3"
  }
 },
 "nbformat": 4,
 "nbformat_minor": 4
}
