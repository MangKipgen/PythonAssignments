{
 "cells": [
  {
   "cell_type": "markdown",
   "metadata": {},
   "source": [
    "# Practice Exercise"
   ]
  },
  {
   "cell_type": "markdown",
   "metadata": {},
   "source": [
    "Exercise 1:"
   ]
  },
  {
   "cell_type": "code",
   "execution_count": null,
   "metadata": {},
   "outputs": [],
   "source": [
    "# using functions and nested functions reformat your calculator code\n",
    "# so users can use our calculator again and again!"
   ]
  },
  {
   "cell_type": "code",
   "execution_count": null,
   "metadata": {
    "scrolled": true
   },
   "outputs": [],
   "source": [
    "def calculator():\n",
    "    # variable 1. store user input figures in variables, x & y\n",
    "    user_input = input('Please select an operator. \"+\" or \"-\" or \"*\" or \"/\". You want to  ')\n",
    "        \n",
    "\n",
    "    #variable 2 & 3. store user input figures    \n",
    "    x = int(input('Enter Number '))\n",
    "    y = int(input('Enter Second Number '))\n",
    "    \n",
    "    #Calculations using if & elif\n",
    "\n",
    "    if (user_input=='+'):\n",
    "        print(x, '+', y, '=', x+y)\n",
    "    elif(user_input=='-'):\n",
    "        print(x, '-', y, '=', x-y)\n",
    "    elif(user_input=='*'):\n",
    "        print(x, 'x', y, '=', x*y)\n",
    "    elif(user_input=='/'):\n",
    "        print(x, '/', y, '=', x/y)\n",
    "    elif(user_input != '+' and user_input !='-'and user_input !='*'and user_input !='/'):\n",
    "        print('Operator not available, please choose + , - , * or /')\n",
    "    #call repeat function with indent (nested function)\n",
    "    repeat()\n",
    "\n",
    "        \n",
    " # continue function\n",
    "         \n",
    "def repeat():\n",
    "#calculator end?\n",
    "    continue_calculation= input(\"Try another calculation? y or n \")\n",
    "    if (continue_calculation=='y'):\n",
    "        calculator()\n",
    "    elif(continue_calculation=='n'):\n",
    "        print(\"End of calculator\")        \n",
    "    else:\n",
    "        print('Please choose either y for yes or n for no')\n",
    "        # if operator input is not one of the options, function repeat\n",
    "        repeat()\n",
    "        \n",
    "calculator()\n"
   ]
  },
  {
   "cell_type": "markdown",
   "metadata": {},
   "source": [
    "## Exercise 2:"
   ]
  },
  {
   "cell_type": "code",
   "execution_count": null,
   "metadata": {},
   "outputs": [],
   "source": [
    "# Print the first 10 natural numbers using a loop \n",
    "\n",
    "# Expected output: \n",
    "# 0\n",
    "# 1\n",
    "# 2\n",
    "# 3\n",
    "# 4\n",
    "# 5\n",
    "# 6\n",
    "# 7\n",
    "# 8\n",
    "# 9\n",
    "# 10"
   ]
  },
  {
   "cell_type": "markdown",
   "metadata": {},
   "source": [
    "Write your code below:"
   ]
  },
  {
   "cell_type": "code",
   "execution_count": 20,
   "metadata": {
    "scrolled": true
   },
   "outputs": [
    {
     "name": "stdout",
     "output_type": "stream",
     "text": [
      "1\n",
      "2\n",
      "3\n",
      "4\n",
      "5\n",
      "6\n",
      "7\n",
      "8\n",
      "9\n",
      "10\n"
     ]
    }
   ],
   "source": [
    "# numbers= [1,2,3,4,5,6,7,8,9,10]\n",
    "\n",
    "# for option in numbers:\n",
    "#     print(option)\n",
    "\n",
    "num = 1\n",
    "while num < 11:\n",
    "  print(num)\n",
    "  num += 1"
   ]
  },
  {
   "cell_type": "markdown",
   "metadata": {},
   "source": [
    "Exercise 3:"
   ]
  },
  {
   "cell_type": "code",
   "execution_count": 21,
   "metadata": {},
   "outputs": [],
   "source": [
    "# Execute the loop in exercise 1 and print the message Done! after \n",
    "\n",
    "# Expected output: \n",
    "# 0\n",
    "# 1\n",
    "# 2\n",
    "# 3\n",
    "# 4\n",
    "# 5\n",
    "# 6\n",
    "# 7\n",
    "# 8\n",
    "# 9\n",
    "# 10\n",
    "# Done! "
   ]
  },
  {
   "cell_type": "markdown",
   "metadata": {},
   "source": [
    "Write your code below:"
   ]
  },
  {
   "cell_type": "code",
   "execution_count": 4,
   "metadata": {},
   "outputs": [
    {
     "name": "stdout",
     "output_type": "stream",
     "text": [
      "1\n",
      "2\n",
      "3\n",
      "4\n",
      "5\n",
      "6\n",
      "7\n",
      "8\n",
      "9\n",
      "10\n",
      "Done!\n"
     ]
    }
   ],
   "source": [
    "num = 1\n",
    "while num < 11:\n",
    "  print(num)\n",
    "  num += 1\n",
    "else:\n",
    "    print('Done!')"
   ]
  },
  {
   "cell_type": "markdown",
   "metadata": {},
   "source": [
    "Exercise 4:"
   ]
  },
  {
   "cell_type": "code",
   "execution_count": null,
   "metadata": {},
   "outputs": [],
   "source": [
    "# Print the numbers greater than 150 from the list \n",
    "\n",
    "# list = [12, 15, 47, 63, 78, 101, 157, 178, 189]\n",
    "# Expected output: \n",
    "\n",
    "# 157\n",
    "# 178 \n",
    "# 189 "
   ]
  },
  {
   "cell_type": "markdown",
   "metadata": {},
   "source": [
    "Write your code below:"
   ]
  },
  {
   "cell_type": "code",
   "execution_count": 6,
   "metadata": {},
   "outputs": [
    {
     "name": "stdout",
     "output_type": "stream",
     "text": [
      "157\n",
      "178\n",
      "189\n"
     ]
    }
   ],
   "source": [
    "list = [12, 15, 47, 63, 78, 101, 157, 178, 189]\n",
    "\n",
    "for num in list:\n",
    "    if num>150:\n",
    "        print(num)"
   ]
  },
  {
   "cell_type": "markdown",
   "metadata": {},
   "source": [
    "Exercise 5:"
   ]
  },
  {
   "cell_type": "code",
   "execution_count": 7,
   "metadata": {},
   "outputs": [],
   "source": [
    "# Print the number that is even and less than 150 \n",
    "\n",
    "# list = [12, 15, 47, 63, 78, 101, 157, 178, 189]\n",
    "# Expected output: \n",
    "\n",
    "# 12\n",
    "# 78\n",
    "\n",
    "# Hint: if you find a number greater than 150, stop the loop with a break"
   ]
  },
  {
   "cell_type": "markdown",
   "metadata": {},
   "source": [
    "Write your code below:"
   ]
  },
  {
   "cell_type": "code",
   "execution_count": 8,
   "metadata": {},
   "outputs": [
    {
     "name": "stdout",
     "output_type": "stream",
     "text": [
      "12\n",
      "78\n"
     ]
    }
   ],
   "source": [
    "list = [12, 15, 47, 63, 78, 101, 157, 178, 189]\n",
    "\n",
    "# for num in list:\n",
    "#     if num<150 and num % 2==0:\n",
    "#         print(num)\n",
    "\n",
    "\n",
    "#using break\n",
    "for num in list: \n",
    "    if (num) > 150:  \n",
    "        break\n",
    "    elif (num % 2 == 0): ## this means the remainder is 0 which indicates its an even number\n",
    "        print(num)\n"
   ]
  },
  {
   "cell_type": "markdown",
   "metadata": {},
   "source": [
    "Exercise 6:"
   ]
  },
  {
   "cell_type": "code",
   "execution_count": null,
   "metadata": {},
   "outputs": [],
   "source": [
    "# This will be a challenging!\n",
    "\n",
    "# Write a while loop that flips a coin 10 times\n",
    "\n",
    "# Hint: Look into the random library using: \n",
    "# https://docs.python.org/3/library/random.html\n",
    "# https://www.pythonforbeginners.com/random/how-to-use-the-random-module-in-python"
   ]
  },
  {
   "cell_type": "markdown",
   "metadata": {},
   "source": [
    "Write your code below:"
   ]
  },
  {
   "cell_type": "code",
   "execution_count": 11,
   "metadata": {},
   "outputs": [
    {
     "name": "stdout",
     "output_type": "stream",
     "text": [
      "1 Heads\n",
      "\n",
      "2 Tails\n",
      "\n",
      "3 Heads\n",
      "\n",
      "4 Tails\n",
      "\n",
      "5 Heads\n",
      "\n",
      "6 Tails\n",
      "\n",
      "7 Heads\n",
      "\n",
      "8 Heads\n",
      "\n",
      "9 Heads\n",
      "\n",
      "10 Tails\n",
      "\n",
      "Final count\n",
      "Heads=6, Tails=4\n"
     ]
    }
   ],
   "source": [
    "# importing the python random library\n",
    "import random\n",
    "\n",
    "# def coinFlips():\n",
    "## array with options\n",
    "coin = ['Heads', 'Tails']\n",
    "heads=0\n",
    "tails=0\n",
    "i=0\n",
    "# a while loop for flipping the coin 10 times\n",
    "while i <10:\n",
    "    i+=1\n",
    "    flip=random.choice(coin)\n",
    "    if flip== 'Heads':\n",
    "        print(i,'Heads\\n')\n",
    "        heads=heads+1\n",
    "    elif flip == 'Tails':\n",
    "        print (i,'Tails\\n')\n",
    "        tails=tails+1\n",
    "        \n",
    "print(f'Final count\\nHeads={heads}, Tails={tails}')"
   ]
  },
  {
   "cell_type": "code",
   "execution_count": null,
   "metadata": {},
   "outputs": [],
   "source": []
  },
  {
   "cell_type": "code",
   "execution_count": null,
   "metadata": {},
   "outputs": [],
   "source": []
  }
 ],
 "metadata": {
  "kernelspec": {
   "display_name": "Python 3",
   "language": "python",
   "name": "python3"
  },
  "language_info": {
   "codemirror_mode": {
    "name": "ipython",
    "version": 3
   },
   "file_extension": ".py",
   "mimetype": "text/x-python",
   "name": "python",
   "nbconvert_exporter": "python",
   "pygments_lexer": "ipython3",
   "version": "3.7.6"
  }
 },
 "nbformat": 4,
 "nbformat_minor": 2
}
