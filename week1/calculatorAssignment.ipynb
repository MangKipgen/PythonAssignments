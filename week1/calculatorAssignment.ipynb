{
 "cells": [
  {
   "cell_type": "markdown",
   "metadata": {},
   "source": [
    "### Assignment 1: Create your own calculator!"
   ]
  },
  {
   "cell_type": "markdown",
   "metadata": {},
   "source": [
    "Before we actually code in Python, please write out how you might build this with code in plain English (pseudocoding!). Pseudocode is an important part of programming and is used in planning an algorithm with sketching out the structure of the program before the actual coding takes place."
   ]
  },
  {
   "cell_type": "code",
   "execution_count": 47,
   "metadata": {},
   "outputs": [],
   "source": [
    "# example psuedocode:\n",
    "# 1. A calculator will take in numbers that we want to use the operators on. So we want store user input\n",
    "# in variables. The first variable will store the first number, the second one will store the second number, \n",
    "# and the third will store the mathematical operator the user wants to perform on these numbers."
   ]
  },
  {
   "cell_type": "markdown",
   "metadata": {},
   "source": [
    "__Using conditionals, operators, and functions, try creating a working calculator! We will go over the solution next week.__\n",
    "\n",
    "_Things to consider:_\n",
    "\n",
    "<li>You may want to ask for user input: use the Python input() method. If you're asking for numbers, you may need to change the input value from a string to a number. Consider using int(x) and float(x) to do so.</li>\n",
    "<li>Use the operators with the conditionals we learned in class! Ex) if user_input == '*': print(x * y) </li>\n",
    "<li>Use if...elif conditionals!</li>\n",
    "<li>Before you put your code into a function for reusability purposes, hard code first to make sure your logic is working</li>\n",
    "<li>Keep it simple and use the four operators we went over in class: +, -, *, /</li>"
   ]
  },
  {
   "cell_type": "code",
   "execution_count": 13,
   "metadata": {},
   "outputs": [],
   "source": [
    "def calculator():\n",
    "    # variable 1. store user input figures in variables, x & y\n",
    "    user_input = input('Please select an operator. \"+\" or \"-\" or \"*\" or \"/\". You want to  ')\n",
    "        \n",
    "\n",
    "    #variable 2 & 3. store user input figures    \n",
    "    x = int(input('Enter Number '))\n",
    "    y = int(input('Enter Second Number '))\n",
    "    #Calculations using if & elif\n",
    "\n",
    "    if (user_input=='+'):\n",
    "        print(x, '+', y, '=', x+y)\n",
    "    elif(user_input=='-'):\n",
    "        print(x, '-', y, '=', x-y)\n",
    "    elif(user_input=='*'):\n",
    "        print(x, 'x', y, '=', x*y)\n",
    "    elif(user_input=='/'):\n",
    "        print(x, '/', y, '=', x/y)\n",
    "    elif(user_input != '+' and user_input !='-'and user_input !='*'and user_input !='/'):\n",
    "        print('Operator not available, please choose + , - , * or /') \n",
    "        repeat()\n",
    "   \n",
    "    #call repeat function with indent (nested function)\n",
    "    repeat()\n"
   ]
  },
  {
   "cell_type": "code",
   "execution_count": 17,
   "metadata": {
    "scrolled": true
   },
   "outputs": [
    {
     "name": "stdout",
     "output_type": "stream",
     "text": [
      "Please select an operator. \"+\" or \"-\" or \"*\" or \"/\". You want to  +\n",
      "Enter Number 3\n",
      "Enter Second Number d\n"
     ]
    },
    {
     "ename": "ValueError",
     "evalue": "invalid literal for int() with base 10: 'd'",
     "output_type": "error",
     "traceback": [
      "\u001b[0;31m---------------------------------------------------------------------------\u001b[0m",
      "\u001b[0;31mValueError\u001b[0m                                Traceback (most recent call last)",
      "\u001b[0;32m<ipython-input-17-86db31b052d3>\u001b[0m in \u001b[0;36m<module>\u001b[0;34m\u001b[0m\n\u001b[1;32m     13\u001b[0m         \u001b[0mrepeat\u001b[0m\u001b[0;34m(\u001b[0m\u001b[0;34m)\u001b[0m\u001b[0;34m\u001b[0m\u001b[0;34m\u001b[0m\u001b[0m\n\u001b[1;32m     14\u001b[0m \u001b[0;34m\u001b[0m\u001b[0m\n\u001b[0;32m---> 15\u001b[0;31m \u001b[0mcalculator\u001b[0m\u001b[0;34m(\u001b[0m\u001b[0;34m)\u001b[0m\u001b[0;34m\u001b[0m\u001b[0;34m\u001b[0m\u001b[0m\n\u001b[0m\u001b[1;32m     16\u001b[0m \u001b[0;34m\u001b[0m\u001b[0m\n",
      "\u001b[0;32m<ipython-input-13-a86613725345>\u001b[0m in \u001b[0;36mcalculator\u001b[0;34m()\u001b[0m\n\u001b[1;32m      6\u001b[0m     \u001b[0;31m#variable 2 & 3. store user input figures\u001b[0m\u001b[0;34m\u001b[0m\u001b[0;34m\u001b[0m\u001b[0;34m\u001b[0m\u001b[0m\n\u001b[1;32m      7\u001b[0m     \u001b[0mx\u001b[0m \u001b[0;34m=\u001b[0m \u001b[0mint\u001b[0m\u001b[0;34m(\u001b[0m\u001b[0minput\u001b[0m\u001b[0;34m(\u001b[0m\u001b[0;34m'Enter Number '\u001b[0m\u001b[0;34m)\u001b[0m\u001b[0;34m)\u001b[0m\u001b[0;34m\u001b[0m\u001b[0;34m\u001b[0m\u001b[0m\n\u001b[0;32m----> 8\u001b[0;31m     \u001b[0my\u001b[0m \u001b[0;34m=\u001b[0m \u001b[0mint\u001b[0m\u001b[0;34m(\u001b[0m\u001b[0minput\u001b[0m\u001b[0;34m(\u001b[0m\u001b[0;34m'Enter Second Number '\u001b[0m\u001b[0;34m)\u001b[0m\u001b[0;34m)\u001b[0m\u001b[0;34m\u001b[0m\u001b[0;34m\u001b[0m\u001b[0m\n\u001b[0m\u001b[1;32m      9\u001b[0m     \u001b[0;31m#Calculations using if & elif\u001b[0m\u001b[0;34m\u001b[0m\u001b[0;34m\u001b[0m\u001b[0;34m\u001b[0m\u001b[0m\n\u001b[1;32m     10\u001b[0m \u001b[0;34m\u001b[0m\u001b[0m\n",
      "\u001b[0;31mValueError\u001b[0m: invalid literal for int() with base 10: 'd'"
     ]
    }
   ],
   "source": [
    "# continue function\n",
    "         \n",
    "def repeat():\n",
    "#calculator end?\n",
    "    continue_calculation= input(\"Try another calculation? y or n \")\n",
    "    if (continue_calculation=='y'):\n",
    "        calculator()\n",
    "    elif(continue_calculation=='n'):\n",
    "        print(\"End of calculator\")        \n",
    "    else:\n",
    "        print('Please choose either y for yes or n for no')\n",
    "        # if input is not one of the options, function repeat\n",
    "        repeat()\n",
    "        \n",
    "calculator()\n",
    "\n"
   ]
  },
  {
   "cell_type": "code",
   "execution_count": null,
   "metadata": {},
   "outputs": [],
   "source": [
    "# issues to solve moving forward: \n",
    "#  1. bring up error when an integer isnt entered for var 2 & 3. Brings up message \"please enter a number\" - return to calculator function.\n",
    "#  2. dividing by zero brings up error message \"cannot divide by 0\" - return to calculator function\n",
    "#   tried elif(user_input=='/' and y==0)\n",
    "#   tried def error() with if statement\n",
    "\n",
    "\n"
   ]
  }
 ],
 "metadata": {
  "kernelspec": {
   "display_name": "Python 3",
   "language": "python",
   "name": "python3"
  },
  "language_info": {
   "codemirror_mode": {
    "name": "ipython",
    "version": 3
   },
   "file_extension": ".py",
   "mimetype": "text/x-python",
   "name": "python",
   "nbconvert_exporter": "python",
   "pygments_lexer": "ipython3",
   "version": "3.7.6"
  }
 },
 "nbformat": 4,
 "nbformat_minor": 4
}
