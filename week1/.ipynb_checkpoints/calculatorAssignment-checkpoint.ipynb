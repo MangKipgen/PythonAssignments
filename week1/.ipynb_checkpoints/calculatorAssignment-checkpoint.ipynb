{
 "cells": [
  {
   "cell_type": "markdown",
   "metadata": {},
   "source": [
    "### Assignment 1: Create your own calculator!"
   ]
  },
  {
   "cell_type": "markdown",
   "metadata": {},
   "source": [
    "Before we actually code in Python, please write out how you might build this with code in plain English (pseudocoding!). Pseudocode is an important part of programming and is used in planning an algorithm with sketching out the structure of the program before the actual coding takes place."
   ]
  },
  {
   "cell_type": "code",
   "execution_count": null,
   "metadata": {},
   "outputs": [],
   "source": [
    "# example psuedocode:\n",
    "# 1. A calculator will take in numbers that we want to use the operators on. So we want store user input\n",
    "# in variables. The first variable will store the first number, the second one will store the second number, \n",
    "# and the third will store the mathematical operator the user wants to perform on these numbers."
   ]
  },
  {
   "cell_type": "markdown",
   "metadata": {},
   "source": [
    "__Using conditionals, operators, and functions, try creating a working calculator! We will go over the solution next week.__\n",
    "\n",
    "_Things to consider:_\n",
    "\n",
    "<li>You may want to ask for user input: use the Python input() method. If you're asking for numbers, you may need to change the input value from a string to a number. Consider using int(x) and float(x) to do so.</li>\n",
    "<li>Use the operators with the conditionals we learned in class! Ex) if user_input == '*': print(x * y) </li>\n",
    "<li>Use if...elif conditionals!</li>\n",
    "<li>Before you put your code into a function for reusability purposes, hard code first to make sure your logic is working</li>\n",
    "<li>Keep it simple and use the four operators we went over in class: +, -, *, /</li>"
   ]
  },
  {
   "cell_type": "code",
   "execution_count": 58,
   "metadata": {},
   "outputs": [
    {
     "name": "stdout",
     "output_type": "stream",
     "text": [
      "Please select an operator. \"+\" or \"-\" or \"*\" or \"/\" +\n",
      "Enter Number 3\n",
      "Enter Second Number 3\n",
      "3 + 3 = 6\n",
      "Another calculation? Yes or Nol\n",
      "Type either Yes or No\n",
      "Another calculation? Yes or Noa\n",
      "Type either Yes or No\n",
      "Another calculation? Yes or NoYes\n",
      "Please select an operator. \"+\" or \"-\" or \"*\" or \"/\" +\n",
      "Enter Number 4\n",
      "Enter Second Number 4\n",
      "4 + 4 = 8\n",
      "Another calculation? Yes or NoNo\n",
      "End of calculator\n"
     ]
    }
   ],
   "source": [
    "# code down here:\n",
    "\n",
    "# calculator function\n",
    "def calculator():\n",
    "    \n",
    "# get user input operator\n",
    "\n",
    "    user_input = input('Please select an operator. \"+\" or \"-\" or \"*\" or \"/\" ')\n",
    "    \n",
    "#store user input\n",
    "\n",
    "    x = int(input('Enter Number '))\n",
    "    y = int(input('Enter Second Number '))\n",
    "\n",
    "#Calculations\n",
    "\n",
    "    if (user_input=='+'):\n",
    "        print(x, '+', y, '=', x+y)\n",
    "    elif(user_input=='-'):\n",
    "        print(x, '-', y, '=', x-y)\n",
    "    elif(user_input=='*'):\n",
    "        print(x, 'x', y, '=', x*y)\n",
    "    elif(user_input=='/'):\n",
    "        print(x, '/', y, '=', x/y)\n",
    "    else: print('Operator option not available')\n",
    "    \n",
    "    #call repeat function with indent\n",
    "    repeat()\n",
    "\n",
    "# continue function\n",
    "         \n",
    "def repeat():\n",
    "#calculator end?\n",
    "    continue_calculation= input(\"Another calculation? Yes or No\")\n",
    "    if (continue_calculation=='Yes'):\n",
    "        calculator()\n",
    "    elif(continue_calculation=='No'):\n",
    "        print(\"End of calculator\")        \n",
    "    else:\n",
    "        print('Type either Yes or No')\n",
    "        repeat()\n",
    "        \n",
    "calculator()"
   ]
  },
  {
   "cell_type": "code",
   "execution_count": null,
   "metadata": {},
   "outputs": [],
   "source": []
  },
  {
   "cell_type": "code",
   "execution_count": null,
   "metadata": {},
   "outputs": [],
   "source": []
  }
 ],
 "metadata": {
  "kernelspec": {
   "display_name": "Python 3",
   "language": "python",
   "name": "python3"
  },
  "language_info": {
   "codemirror_mode": {
    "name": "ipython",
    "version": 3
   },
   "file_extension": ".py",
   "mimetype": "text/x-python",
   "name": "python",
   "nbconvert_exporter": "python",
   "pygments_lexer": "ipython3",
   "version": "3.7.6"
  }
 },
 "nbformat": 4,
 "nbformat_minor": 4
}
