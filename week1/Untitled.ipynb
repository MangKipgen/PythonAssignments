{
 "cells": [
  {
   "cell_type": "code",
   "execution_count": null,
   "metadata": {},
   "outputs": [],
   "source": [
    "def calculator():\n",
    "    # variable 1. store user input figures in variables, x & y\n",
    "    user_input = input('Please select an operator. \"+\" or \"-\" or \"*\" or \"/\". You want to  ')\n",
    "        \n",
    "\n",
    "    #variable 2& 3. store user input figures    \n",
    "    x = int(input('Enter Number '))\n",
    "    y = int(input('Enter Second Number '))\n",
    "    #Calculations using if & elif\n",
    "\n",
    "    if (user_input=='+'):\n",
    "        print(x, '+', y, '=', x+y)\n",
    "    elif(user_input=='-'):\n",
    "        print(x, '-', y, '=', x-y)\n",
    "    elif(user_input=='*'):\n",
    "        print(x, 'x', y, '=', x*y)\n",
    "    elif(user_input=='/'):\n",
    "        print(x, '/', y, '=', x/y)\n",
    "    elif(user_input != '+' and user_input !='-'and user_input !='*'and user_input !='/'):\n",
    "        print('Operator not available')\n",
    "    #call repeat function with indent\n",
    "    repeat()\n",
    "    \n",
    "    \n",
    " # continue function\n",
    "         \n",
    "    def repeat():\n",
    "    #calculator end?\n",
    "        continue_calculation= input(\"Another calculation? y or n \")\n",
    "        if (continue_calculation=='y'):\n",
    "            calculator()\n",
    "        elif(continue_calculation=='n'):\n",
    "            print(\"End of calculator\")        \n",
    "        else:\n",
    "            print('Please choose either y for yes or n for no')\n",
    "            # if input is not one of the options, function repeat\n",
    "            repeat()\n",
    "        \n",
    "calculator()\n",
    "\n"
   ]
  },
  {
   "cell_type": "markdown",
   "metadata": {},
   "source": [
    "## "
   ]
  },
  {
   "cell_type": "code",
   "execution_count": null,
   "metadata": {},
   "outputs": [],
   "source": []
  },
  {
   "cell_type": "code",
   "execution_count": null,
   "metadata": {},
   "outputs": [],
   "source": []
  }
 ],
 "metadata": {
  "kernelspec": {
   "display_name": "Python 3",
   "language": "python",
   "name": "python3"
  },
  "language_info": {
   "codemirror_mode": {
    "name": "ipython",
    "version": 3
   },
   "file_extension": ".py",
   "mimetype": "text/x-python",
   "name": "python",
   "nbconvert_exporter": "python",
   "pygments_lexer": "ipython3",
   "version": "3.7.6"
  }
 },
 "nbformat": 4,
 "nbformat_minor": 4
}
