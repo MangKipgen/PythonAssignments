{
 "cells": [
  {
   "cell_type": "code",
   "execution_count": null,
   "metadata": {},
   "outputs": [],
   "source": [
    "#import pandas\n",
    "import pandas as pd\n",
    "import matplotlib.pyplot as plt\n"
   ]
  },
  {
   "cell_type": "code",
   "execution_count": null,
   "metadata": {},
   "outputs": [],
   "source": [
    "#import csv file and save as dataframe (df)\n",
    "path = 'medianrentburden.csv'\n",
    "df = pd.read_csv(path)\n",
    "#boroughs only\n",
    "path1 = \"borough-medianrentburden.csv\"\n",
    "df1 = pd.read_csv(path1)\n",
    "path2='city-medianrentburden.csv'\n",
    "df2 = pd.read_csv(path2)\n"
   ]
  },
  {
   "cell_type": "code",
   "execution_count": 63,
   "metadata": {},
   "outputs": [],
   "source": [
    "def rentBurden():\n",
    "    user_input = input(\"Enter 'a' to view rent burden for sub-boroughs or 'b' to view rent for boroughs or 'c' to view NYC average\")\n",
    "    user_input_year = input('Enter year, data available from 2008—2018 ')\n",
    "\n",
    "    if (user_input=='a'):\n",
    "        # isolate latest year numbers (2018)\n",
    "        chart = df.plot.scatter(x='Sub-Borough Area',\n",
    "                        y=user_input_year,s=15,c='blue')\n",
    "        #title of chart\n",
    "        plt.suptitle('Median rent burden NYC | '+ user_input_year, fontsize=24, fontweight='bold')\n",
    "        #rotate for readibility\n",
    "        plt.xticks(rotation=90)\n",
    "        #increase chart size\n",
    "        plt.gcf().set_size_inches((15, 7))    \n",
    "        plt.show()\n",
    "        \n",
    "    elif(user_input=='b'):\n",
    "        # isolate latest year numbers (2018)\n",
    "        chart = df1.plot.scatter(x='Borough',\n",
    "                        y=user_input_year,s=15,c='blue')\n",
    "        #title of chart\n",
    "        plt.suptitle('Median rent burden NYC Boroughs | '+ user_input_year, fontsize=24, fontweight='bold')\n",
    "        #increase chart size\n",
    "        plt.gcf().set_size_inches((15, 7))    \n",
    "\n",
    "        plt.show()\n",
    "        \n",
    "    elif(user_input=='c'):\n",
    "        # isolate latest year numbers (2018)\n",
    "        chart = df2.plot.scatter(x='City',\n",
    "                        y=user_input_year,s=115,c='blue')\n",
    "        #title of chart\n",
    "        plt.suptitle('Median rent burden NYC | '+ user_input_year, fontsize=24, fontweight='bold')\n",
    "        \n",
    "        plt.gcf().set_size_inches((15, 7))    \n",
    "\n",
    "        plt.show()\n",
    "        \n",
    "    repeat()"
   ]
  },
  {
   "cell_type": "code",
   "execution_count": null,
   "metadata": {},
   "outputs": [
    {
     "name": "stdout",
     "output_type": "stream",
     "text": [
      "Enter 'a' to view rent burden for sub-boroughs or 'b' to view rent for boroughs or 'c' to view NYC averageb\n",
      "Enter year, data available from 2008—2018 2016\n"
     ]
    },
    {
     "data": {
      "image/png": "[encoded data removed]",
      "text/plain": [
       "<Figure size 1080x504 with 1 Axes>"
      ]
     },
     "metadata": {
      "needs_background": "light"
     },
     "output_type": "display_data"
    }
   ],
   "source": [
    "def repeat():\n",
    "    differentView= input(\"run the function again? y for yes, n for no\")\n",
    "    if (differentView=='y'):\n",
    "        rentBurden()\n",
    "    elif(differentView=='n'):\n",
    "        print(\"Have a great day\")        \n",
    "    else:\n",
    "        print('Please choose either y for yes or n for no')\n",
    "        # if input is not one of the options, function repeat\n",
    "        repeat()\n",
    "        \n",
    "rentBurden()\n"
   ]
  },
  {
   "cell_type": "code",
   "execution_count": null,
   "metadata": {},
   "outputs": [],
   "source": []
  },
  {
   "cell_type": "code",
   "execution_count": null,
   "metadata": {},
   "outputs": [],
   "source": []
  }
 ],
 "metadata": {
  "kernelspec": {
   "display_name": "Python 3",
   "language": "python",
   "name": "python3"
  },
  "language_info": {
   "codemirror_mode": {
    "name": "ipython",
    "version": 3
   },
   "file_extension": ".py",
   "mimetype": "text/x-python",
   "name": "python",
   "nbconvert_exporter": "python",
   "pygments_lexer": "ipython3",
   "version": "3.7.6"
  }
 },
 "nbformat": 4,
 "nbformat_minor": 4
}
